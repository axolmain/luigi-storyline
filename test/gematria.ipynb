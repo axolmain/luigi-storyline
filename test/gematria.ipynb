{
 "cells": [
  {
   "metadata": {},
   "cell_type": "code",
   "outputs": [],
   "execution_count": null,
   "source": [
    "# imports\n",
    "import pokebase as pb\n",
    "from src.util import *"
   ],
   "id": "175fb4ec0ca2dd1d"
  },
  {
   "cell_type": "code",
   "id": "initial_id",
   "metadata": {
    "collapsed": true,
    "ExecuteTime": {
     "end_time": "2024-12-22T00:51:59.835510Z",
     "start_time": "2024-12-22T00:51:51.837488Z"
    }
   },
   "source": [
    "breloom = pb.APIResource('pokemon', 'breloom')\n",
    "breloom_species = pb.APIResource('pokemon-species', 'breloom')\n",
    "\n",
    "# Extract key data\n",
    "name = breloom.name.title()\n",
    "height = breloom.height / 10\n",
    "weight = breloom.weight / 10\n",
    "types = \", \".join(t.type.name.title() for t in breloom.types)\n",
    "abilities = \", \".join(a.ability.name.title() for a in breloom.abilities)\n",
    "pokedex_number = breloom_species.id"
   ],
   "outputs": [],
   "execution_count": 12
  },
  {
   "metadata": {
    "ExecuteTime": {
     "end_time": "2024-12-22T01:39:01.382999Z",
     "start_time": "2024-12-22T01:39:01.378413Z"
    }
   },
   "cell_type": "code",
   "source": [
    "hilton: location = location('Hilton', 40.76234786117,-73.97903728518)\n",
    "mcdonalds_altoona: location = location('McDonalds', 40.535170528302, -78.40211724418)\n",
    "distance_between = haversine(hilton, mcdonalds_altoona)\n",
    "distance_between"
   ],
   "id": "2a1698c5b55317ce",
   "outputs": [
    {
     "data": {
      "text/plain": [
       "373.9694017082719"
      ]
     },
     "execution_count": 5,
     "metadata": {},
     "output_type": "execute_result"
    }
   ],
   "execution_count": 5
  }
 ],
 "metadata": {
  "kernelspec": {
   "display_name": "Python 3",
   "language": "python",
   "name": "python3"
  },
  "language_info": {
   "codemirror_mode": {
    "name": "ipython",
    "version": 2
   },
   "file_extension": ".py",
   "mimetype": "text/x-python",
   "name": "python",
   "nbconvert_exporter": "python",
   "pygments_lexer": "ipython2",
   "version": "2.7.6"
  }
 },
 "nbformat": 4,
 "nbformat_minor": 5
}
